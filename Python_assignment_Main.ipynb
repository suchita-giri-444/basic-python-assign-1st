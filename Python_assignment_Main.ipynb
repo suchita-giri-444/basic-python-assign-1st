{
  "nbformat": 4,
  "nbformat_minor": 0,
  "metadata": {
    "colab": {
      "provenance": []
    },
    "kernelspec": {
      "name": "python3",
      "display_name": "Python 3"
    },
    "language_info": {
      "name": "python"
    }
  },
  "cells": [
    {
      "cell_type": "markdown",
      "source": [
        "# Python Basics Questions"
      ],
      "metadata": {
        "id": "bwAtS6NDYymC"
      }
    },
    {
      "cell_type": "markdown",
      "source": [
        "1. **What is Python, and why is it popular?**\n",
        "\n",
        "->\n",
        " Python is a high-level programming language that is easy to learn and use. It was created by Guido van Rossum and first released in 1991. Python is known for its simple, readable syntax, which makes it a great language for beginners. Unlike some other programming languages, Python doesn’t use complicated rules or symbols, so it's easier to understand and write.\n",
        "\n",
        "Python is popular for several reasons:\n",
        "\n",
        "1.Easy to learn: Python's syntax is simple, which makes it beginner-friendly. You can write programs quickly and focus more on learning concepts than on learning the language itself.\n",
        "\n",
        "2.Versatile: Python can be used for many different types of projects like web development, data analysis, artificial intelligence, automation, and even game development.\n",
        "\n",
        "3.Large Community: There are many resources available to learn Python, including tutorials, forums, and books. The Python community is very helpful to beginners.\n",
        "\n",
        "4.Libraries and Frameworks: Python has many pre-built libraries and frameworks that make it easier to do tasks like web development (Django, Flask), data science (Pandas, NumPy), and machine learning (TensorFlow, scikit-learn).\n",
        "\n",
        "5.Cross-platform: Python can run on various platforms like Windows, macOS, and Linux, making it flexible for different types of users and projects."
      ],
      "metadata": {
        "id": "NXri-UUkY8Ed"
      }
    },
    {
      "cell_type": "markdown",
      "source": [
        "2.**What is an interpreter in Python?**\n",
        "\n",
        "->\n",
        "An interpreter in Python is a program that runs Python code directly, line by line. It translates your code into actions without needing a separate compilation step.\n",
        "\n",
        "Key Points:\n",
        "1. Executes code one line at a time, making debugging easier.\n",
        "2. Allows interactive use (e.g., in the Python shell or REPL).\n",
        "3. Converts code into bytecode and runs it on the Python Virtual Machine (PVM).\n",
        "C"
      ],
      "metadata": {
        "id": "YxxZDW2OZdpN"
      }
    },
    {
      "cell_type": "markdown",
      "source": [
        "3. **What are pre-defined keywords in Python?**\n",
        "->\n",
        " Pre-defined keywords in Python are special words that have a specific meaning and purpose in the language. These keywords are reserved, meaning you cannot use them as names for variables, functions, or classes.\n",
        "\n",
        "Examples of Python keywords include:\n",
        "\n",
        "1. if: Used to make decisions.\n",
        "2. for: Used to create loops.\n",
        "3. while: Used for loops that repeat until a condition is false.\n",
        "4. def: Used to define a function.\n",
        "5. class: Used to define a class.\n",
        "6. import: Used to bring in external libraries or modules.\n",
        "\n",
        "There are 35 keywords in Python, and they are part of the language's . syntax. These keywords help Python understand how to interpret your code."
      ],
      "metadata": {
        "id": "u6GqxIQCa0_x"
      }
    },
    {
      "cell_type": "markdown",
      "source": [
        "4. **Can keywords be used as variable names?**\n",
        "\n",
        "-> No, keywords cannot be used as variable names in Python. They are reserved by the language for specific purposes (like control flow, defining functions, etc.), so using them as variable names would cause a syntax error. For example, you cannot use if, class, or return as variable names."
      ],
      "metadata": {
        "id": "O3yRWGd2bn7q"
      }
    },
    {
      "cell_type": "markdown",
      "source": [
        "5. **What is mutability in Python?**\n",
        "\n",
        "-> Mutability in Python refers to whether an object can be changed after it is created. Some objects in Python are mutable, meaning their values can be modified, There are one more categary called immutable objects which can not change after creation.\n",
        "\n",
        "Mutable objects can be changed or updated after they are created. Common mutable objects in Python include lists, dictionaries, and sets."
      ],
      "metadata": {
        "id": "RgMJMcjWcPob"
      }
    },
    {
      "cell_type": "markdown",
      "source": [
        "6. **Why are lists mutable, but tuples are immutable?**\n",
        "\n",
        "-> In Python, lists are mutable, means their contents can be changed (like adding, removing, or modifying elements). And Tuples are immutable, means once they are created, their contents cannot be changed.\n",
        "\n",
        "* **Why are Lists Mutable?**\n",
        "Lists are mutable because they are intended for dynamic, changing data, making them ideal for situations where elements need to be modified.\n",
        "\n",
        "* **Why are Tuples Immutable?**\n",
        "Tuples are immutable to provide data integrity, memory efficiency, and performance benefits, especially when the data should remain constant, or when tuples are used as dictionary keys or set elements.\n",
        "\n"
      ],
      "metadata": {
        "id": "OdiwmWqkcec8"
      }
    },
    {
      "cell_type": "markdown",
      "source": [
        "7. **What is the difference between “==” and “is” operators in Python?**\n",
        "->  In Python, logical operators are used to combine multiple conditions and get a result that is either True or False. There are three main logical operators:\n",
        "\n",
        "1. AND :\n",
        "* The and operator checks if both conditions are true.\n",
        "* It only gives True if both conditions are true. If either is false, the result is False.\n",
        "2. OR:\n",
        "* The or operator checks if at least one condition is true.\n",
        "* It gives True if either of the conditions is true. If both are false, the result will be False.\n",
        "3. NOT:\n",
        "* The not operator reverses the result of a condition.\n",
        "\n",
        "If the condition is True, not operator makes it False, and if the condition is False, not operator makes it True."
      ],
      "metadata": {
        "id": "xy7CsjfQc5zA"
      }
    },
    {
      "cell_type": "markdown",
      "source": [
        "9. **What is type casting in Python ?**\n",
        "\n",
        "-> Type casting in Python is the process of converting one data type into another. It allows you to change the type of a value, like converting a string to an integer or a float to an integer, to perform specific operations. There are two types of type casting:\n",
        "\n",
        "* Implicit Casting\n",
        "* Explicit Casting"
      ],
      "metadata": {
        "id": "WaoL-QQRee25"
      }
    },
    {
      "cell_type": "markdown",
      "source": [
        "10. **What is the difference between implicit and explicit type casting?**\n",
        "\n",
        "-> * **Implicit type casting** is when Python automatically converts one data type to another (like from int to float) when it is safe and logical,\n",
        "* while **explicit type casting** requires the programmer to manually convert a data type to another using functions like int(), float(), or str(), typically when Python cannot do it automatically or when a specific conversion is needed."
      ],
      "metadata": {
        "id": "gtK5AiLPesFi"
      }
    },
    {
      "cell_type": "markdown",
      "source": [
        "11.** What is the purpose of conditional statements in Python?**\n",
        "\n",
        "-> The purpose of conditional statements in Python is to allow the program to execute specific code based on whether a condition is True or False, enabling decision-making, controlling the flow of the program, and allowing the program to react differently to different inputs or situations, such as using if, elif, and else to check multiple conditions and execute corresponding actions."
      ],
      "metadata": {
        "id": "aVt5fto0e9Le"
      }
    },
    {
      "cell_type": "markdown",
      "source": [
        "12. **How does the elif statement work?**\n",
        "\n",
        " -> The elif statement in Python is used when we have more than one condition to check. it is also known as nothing but \"else if,\" and it comes after an if statement. If the condition in the if is False, then Python will check the condition in the elif and try to validate it. If that is True, it will run the code inside the elif block. If no conditions are True, the code inside the else block will run.\n",
        "\n",
        "* First, Python checks the if condition. If it's True, it will run that code and ignore the elif and else.\n",
        "* If the if condition is False, Python checks the elif condition.\n",
        "* If the elif condition is True, it runs the code inside that block.\n",
        "* If there are no if or elif conditions that are True, Python will run the else block."
      ],
      "metadata": {
        "id": "Ll0OAAPWfEaR"
      }
    },
    {
      "cell_type": "markdown",
      "source": [
        "13. **What is the difference between for and while loops?**\n",
        "\n",
        "The main difference between a for loop and a while loop in Python is how they repeat a block of code.\n",
        "\n",
        "* A for loop is used when you know how many times you want to repeat something. It works by going through a set of items, like a list or a range of numbers, and runs for a fixed number of times.\n",
        "\n",
        "* A while loop, on the other hand, is used when you don’t know how many times the loop should run. It keeps going as long as a certain condition is true. The loop will stop when the condition is no longer true.\n",
        "\n",
        "For example, a for loop will automatically repeat for a set number of times, like for i in range(5), which will repeat 5 times. A while loop will keep repeating as long as a condition is true, like while i < 5, where it will keep running until the condition changes.\n",
        "\n",
        "In short, use a for loop when you know how many times you want to repeat, and use a while loop when you want to repeat something until a condition is no longer true."
      ],
      "metadata": {
        "id": "E0NO0wT1fRSy"
      }
    },
    {
      "cell_type": "markdown",
      "source": [
        " 14. **Describe a scenario where a while loop is more suitable than a for loop.**\n",
        " ->\n",
        " A while loop is better than a for loop when you don’t know how many times you need to repeat something, and you want the loop to continue until a certain condition is met.\n",
        "\n",
        "For example, imagine you’re making a game where the player has to guess a number, but you don’t know how many guesses it will take. You want the game to keep going until the player guesses the right number. This is a perfect situation to use a while loop. In this case, the game keeps asking for guesses until the player guesses the correct number. Since you don’t know how many guesses it will take, the while loop keeps going until the player guesses the right number. This is why a while loop is more suitable in this situation."
      ],
      "metadata": {
        "id": "ak5LfN39fnns"
      }
    },
    {
      "cell_type": "markdown",
      "source": [
        "# Python Practical Questions"
      ],
      "metadata": {
        "id": "BCvwP5zwfvo3"
      }
    },
    {
      "cell_type": "markdown",
      "source": [
        "1. **Write a Python program to print \"Hello, World!\"**"
      ],
      "metadata": {
        "id": "L42lCixAfxi3"
      }
    },
    {
      "cell_type": "code",
      "source": [
        "print(\"Hello, World!\")"
      ],
      "metadata": {
        "colab": {
          "base_uri": "https://localhost:8080/"
        },
        "id": "kjY5uFBXY6Jb",
        "outputId": "2cead502-025c-421e-9686-d29657af8a39"
      },
      "execution_count": null,
      "outputs": [
        {
          "output_type": "stream",
          "name": "stdout",
          "text": [
            "Hello, World!\n"
          ]
        }
      ]
    },
    {
      "cell_type": "markdown",
      "source": [
        "2. **Write a Python program that displays your name and age.?**"
      ],
      "metadata": {
        "id": "Ng9FhMBNgKI5"
      }
    },
    {
      "cell_type": "code",
      "source": [
        "name = \"Suchita\"\n",
        "age = 20\n",
        "\n",
        "print(\"name:\", name)\n",
        "print(\"age:\", age)\n",
        "\n"
      ],
      "metadata": {
        "id": "d6nGnjycgJeI"
      },
      "execution_count": null,
      "outputs": []
    },
    {
      "cell_type": "markdown",
      "source": [
        "3. **Write code to print all the pre-defined keywords in Python using the keyword library?**"
      ],
      "metadata": {
        "id": "Q0utYkvmh9_0"
      }
    },
    {
      "cell_type": "code",
      "source": [
        "import keyword\n",
        "\n",
        "#Here all the python keywords will show in list.\n",
        "print(\"Python Keywords:\", keyword.kwlist)"
      ],
      "metadata": {
        "id": "p3I7FKnSiHI2"
      },
      "execution_count": null,
      "outputs": []
    },
    {
      "cell_type": "markdown",
      "source": [
        "4. **Write a program that checks if a given word is a Python keyword.**"
      ],
      "metadata": {
        "id": "a4A3CglkiaP9"
      }
    },
    {
      "cell_type": "code",
      "source": [
        "import keyword\n",
        "\n",
        "# Ask the user to enter a word\n",
        "word = input(\"Type a word to check: \")\n",
        "\n",
        "# Check if it is a Python keyword\n",
        "if keyword.iskeyword(word):\n",
        "    print(word, \"is a Python keyword.\")\n",
        "else:\n",
        "    print(word, \"is not a Python keyword.\")"
      ],
      "metadata": {
        "id": "dnPiRcroiehs"
      },
      "execution_count": null,
      "outputs": []
    },
    {
      "cell_type": "markdown",
      "source": [
        "5. **Create a list and tuple in Python, and demonstrate how attempting to change an element works differently for each**"
      ],
      "metadata": {
        "id": "G8VIymM2jEMA"
      }
    },
    {
      "cell_type": "code",
      "source": [
        "\n",
        "my_list = [1, 2, 3]\n",
        "my_tuple = (1, 2, 3)\n",
        "\n",
        "\n",
        "print(\"Original list:\", my_list)\n",
        "my_list[0] = 10  # Changing the first element\n",
        "print(\"List after modification:\", my_list)\n",
        "\n",
        "\n",
        "print(\"\\nOriginal tuple:\", my_tuple)\n",
        "try:\n",
        "    my_tuple[0] = 10  # Attempting to change the first element\n",
        "except TypeError as e:\n",
        "    print(\"Error:\", e)  # Tuples cannot be changed\n"
      ],
      "metadata": {
        "id": "wqu8SXbzjKUi"
      },
      "execution_count": null,
      "outputs": []
    },
    {
      "cell_type": "markdown",
      "source": [
        " 6. **Write a function to demonstrate the behavior of mutable and immutable arguments**"
      ],
      "metadata": {
        "id": "pcR73-FNjzOt"
      }
    },
    {
      "cell_type": "code",
      "source": [
        "def modify_arguments(my_list, my_number):\n",
        "    # Try to change the list (mutable)\n",
        "    my_list.append(4)\n",
        "    print(\"Inside function, modified list:\", my_list)\n",
        "\n",
        "    # Try to change the number (immutable)\n",
        "    my_number += 10\n",
        "    print(\"Inside function, modified number:\", my_number)\n",
        "\n",
        "original_list = [1, 2, 3]\n",
        "original_number = 5\n",
        "\n",
        "print(\"Before function call:\")\n",
        "print(\"List:\", original_list)\n",
        "print(\"Number:\", original_number)\n",
        "\n",
        "modify_arguments(original_list, original_number)\n",
        "\n",
        "print(\"\\nAfter function call:\")\n",
        "print(\"List:\", original_list)  # List is modified\n",
        "print(\"Number:\", original_number)  # Number is not modified"
      ],
      "metadata": {
        "id": "UVQLTQ1ej1KE"
      },
      "execution_count": null,
      "outputs": []
    },
    {
      "cell_type": "markdown",
      "source": [
        "7. **Write a function to demonstrate the behavior of mutable and immutable arguments**"
      ],
      "metadata": {
        "id": "VHJ0PjCnkGsg"
      }
    },
    {
      "cell_type": "code",
      "source": [
        "def modify_arguments(my_list, my_number):\n",
        "    # Try to change the list (mutable)\n",
        "    my_list.append(4)\n",
        "    print(\"Inside function, modified list:\", my_list)\n",
        "\n",
        "    # Try to change the number (immutable)\n",
        "    my_number += 10\n",
        "    print(\"Inside function, modified number:\", my_number)\n",
        "\n",
        "original_list = [1, 2, 3]\n",
        "original_number = 5\n",
        "\n",
        "print(\"Before function call:\")\n",
        "print(\"List:\", original_list)\n",
        "print(\"Number:\", original_number)\n",
        "\n",
        "modify_arguments(original_list, original_number)\n",
        "\n",
        "print(\"\\nAfter function call:\")\n",
        "print(\"List:\", original_list)  # List is modified\n",
        "print(\"Number:\", original_number)  # Number is not modified"
      ],
      "metadata": {
        "id": "0aOB8LI4kRJN"
      },
      "execution_count": null,
      "outputs": []
    },
    {
      "cell_type": "markdown",
      "source": [
        "8. **Write a program to demonstrate the use of logical operators.**"
      ],
      "metadata": {
        "id": "CpQaayE7ke4L"
      }
    },
    {
      "cell_type": "code",
      "source": [
        "# Get two numbers from the user\n",
        "num1 = int(input(\"Enter the first number: \"))\n",
        "num2 = int(input(\"Enter the second number: \"))\n",
        "\n",
        "# Demonstrate logical operators\n",
        "print(\"Both numbers are positive:\", num1 > 0 and num2 > 0)  # AND operator\n",
        "print(\"At least one number is positive:\", num1 > 0 or num2 > 0)  # OR operator\n",
        "print(\"First number is not positive:\", not (num1 > 0))  # NOT operator"
      ],
      "metadata": {
        "id": "W7J4Wyg-k_3W"
      },
      "execution_count": null,
      "outputs": []
    },
    {
      "cell_type": "markdown",
      "source": [
        "9. **Write a Python program to convert user input from string to integer, float, and boolean types**"
      ],
      "metadata": {
        "id": "sAaFknkNlCkH"
      }
    },
    {
      "cell_type": "code",
      "source": [
        "user_input = input(\"Enter something: \")\n",
        "\n",
        "try:\n",
        "    int_value = int(user_input)\n",
        "    print(\"As an integer:\", int_value)\n",
        "except ValueError:\n",
        "    print(\"Cannot convert to integer\")\n",
        "\n",
        "try:\n",
        "    float_value = float(user_input)\n",
        "    print(\"As a float:\", float_value)\n",
        "except ValueError:\n",
        "    print(\"Cannot convert to float\")\n",
        "\n",
        "bool_value = bool(user_input)\n",
        "print(\"As a boolean:\", bool_value)"
      ],
      "metadata": {
        "id": "CZ96yOmdlIJV"
      },
      "execution_count": null,
      "outputs": []
    },
    {
      "cell_type": "markdown",
      "source": [
        "10. **Write code to demonstrate type casting with list elements.**"
      ],
      "metadata": {
        "id": "1n50St-Sldh8"
      }
    },
    {
      "cell_type": "code",
      "source": [
        "\n",
        "str_list = [\"10\", \"20.5\", \"True\", \"45\"]\n",
        "\n",
        "print(\"Original list:\", str_list)\n",
        "\n",
        "\n",
        "int_list = [int(x) for x in str_list if x.isdigit()]\n",
        "float_list = [float(x) for x in str_list if x.replace('.', '', 1).isdigit()]\n",
        "\n",
        "bool_list = [bool(x) for x in str_list]\n",
        "\n",
        "# Display the results\n",
        "print(\"List as integers (only numeric):\", int_list)\n",
        "print(\"List as floats (only numeric):\", float_list)\n",
        "print(\"List as booleans:\", bool_list)"
      ],
      "metadata": {
        "id": "0_WIcYDHlicv"
      },
      "execution_count": null,
      "outputs": []
    },
    {
      "cell_type": "markdown",
      "source": [
        "11. **Write a program that checks if a number is positive, negative, or zero**"
      ],
      "metadata": {
        "id": "cO9_vvl1l9LC"
      }
    },
    {
      "cell_type": "code",
      "source": [
        "# Get input from the user\n",
        "number = float(input(\"Enter a number: \"))\n",
        "\n",
        "# Check if the number is positive, negative, or zero\n",
        "if number > 0:\n",
        "    print(\"The number is positive.\")\n",
        "elif number < 0:\n",
        "    print(\"The number is negative.\")\n",
        "else:\n",
        "    print(\"The number is zero.\")"
      ],
      "metadata": {
        "id": "Kszg39o5mDIu"
      },
      "execution_count": null,
      "outputs": []
    },
    {
      "cell_type": "markdown",
      "source": [
        "12. **Write a for loop to print numbers from 1 to 10**"
      ],
      "metadata": {
        "id": "sNs71gPPmOvw"
      }
    },
    {
      "cell_type": "code",
      "source": [
        "\n",
        "for number in range(1, 11):\n",
        "    print(number)"
      ],
      "metadata": {
        "id": "jEUr1mrkmTMP"
      },
      "execution_count": null,
      "outputs": []
    },
    {
      "cell_type": "markdown",
      "source": [
        "13. **Write a Python program to find the sum of all even numbers between 1 and 50.**"
      ],
      "metadata": {
        "id": "BU8Y5960mcG7"
      }
    },
    {
      "cell_type": "code",
      "source": [
        "# Initialize the sum\n",
        "total_sum = 0\n",
        "\n",
        "# Loop through numbers from 1 to 50\n",
        "for number in range(1, 51):\n",
        "    if number % 2 == 0:  # Check if the number is even\n",
        "        total_sum += number  # Add the even number to the sum\n",
        "\n",
        "# Print the result\n",
        "print(\"The sum of all even numbers between 1 and 50 is:\", total_sum)"
      ],
      "metadata": {
        "id": "zPGySORqmlZT"
      },
      "execution_count": null,
      "outputs": []
    },
    {
      "cell_type": "markdown",
      "source": [
        "14. **Write a program to reverse a string using a while loop**"
      ],
      "metadata": {
        "id": "eSFYkM85muRR"
      }
    },
    {
      "cell_type": "code",
      "source": [
        "string = input(\"Enter a string: \")\n",
        "\n",
        "# Initialize variables\n",
        "reversed_string = \"\"\n",
        "index = len(string) - 1\n",
        "\n",
        "while index >= 0:\n",
        "    reversed_string += string[index]\n",
        "    index -= 1\n",
        "\n",
        "print(\"Reversed string:\", reversed_string)"
      ],
      "metadata": {
        "id": "HvELHJCCmzkz"
      },
      "execution_count": null,
      "outputs": []
    },
    {
      "cell_type": "markdown",
      "source": [
        "15. **Write a Python program to calculate the factorial of a number provided by the user using a while loop.**"
      ],
      "metadata": {
        "id": "WTY_1uq5nEZu"
      }
    },
    {
      "cell_type": "code",
      "source": [
        "num = int(input(\"Enter a number: \"))\n",
        "\n",
        "# Initialize variables\n",
        "factorial = 1\n",
        "\n",
        "# Calculate the factorial using a while loop\n",
        "while num > 1:\n",
        "    factorial *= num\n",
        "    num -= 1\n",
        "\n",
        "# Print the result\n",
        "print(\"Factorial:\", factorial)"
      ],
      "metadata": {
        "id": "wCQTrtcwnQmx"
      },
      "execution_count": null,
      "outputs": []
    }
  ]
}